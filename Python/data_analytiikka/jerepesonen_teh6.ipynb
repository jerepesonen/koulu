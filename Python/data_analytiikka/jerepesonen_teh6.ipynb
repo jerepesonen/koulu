{
 "cells": [
  {
   "cell_type": "markdown",
   "metadata": {
    "collapsed": true
   },
   "source": [
    "# Datan analysointi K2020_2 - Tehtävät kerta 6\n",
    "\n",
    "Palauta Optiman palautuslaatikkoon viimeistään su 29.3. Kirjoita palautuslaatikon kommenttikenttään, mitkä tehtävät olet tehnyt kokonaan/osittain.\n",
    "\n",
    "Opiskelijan nimi:"
   ]
  },
  {
   "cell_type": "markdown",
   "metadata": {},
   "source": [
    "## 1. Sekunnit aikaleimoiksi\n",
    "Tiedostossa http://student.labranet.jamk.fi/~varpe/datananal2k2020/kerta6/gps.txt on gps-koordinaatteja ja niille aikaleimoja:\n",
    "\n",
    "**t401.444483900_1490796_6272051_S36.**\n",
    "\n",
    "  * **t401** = laitteen id (merkkijono)\n",
    "  * **444483900** = UTC-aika sekunteina vuoden 2006 alusta eli 1.1.2006 00:00:00 (kokonaislukuna)\n",
    "  * **1490796** = pituusaste*50000 (kokonaislukuna)\n",
    "  * **6272051** = leveysaste*100000 (kokonaislukuna)\n",
    "  * **S36** = nopeus (km/h) * 10 (kokonaislukuna)\n",
    "  \n",
    "laiteid:n jälkeen siis on aina piste ja muissa väleissä alaviiva. Nopeuslukeman edessä on aina kirjain S ja rivin lopussa piste.\n",
    "\n",
    "Pura tiedosto DataFrameen, jossa on sarakkeet\n",
    "  * laitteen id\n",
    "  * aikaleima Timestampina Suomen aikaa joka on tuolloin ollut 2 tuntia edessä UTC-aikaa\n",
    "  * pituusaste asteina\n",
    "  * leveysaste asteina\n",
    "  * nopeus km/h\n",
    "  \n",
    "Mallia alusta:\n",
    "![malli1](http://student.labranet.jamk.fi/~varpe/datananal2k2020/kerta6/malli1.png)"
   ]
  },
  {
   "cell_type": "code",
   "execution_count": 79,
   "metadata": {},
   "outputs": [
    {
     "ename": "TypeError",
     "evalue": "unsupported type for timedelta days component: Series",
     "output_type": "error",
     "traceback": [
      "\u001b[1;31m---------------------------------------------------------------------------\u001b[0m",
      "\u001b[1;31mTypeError\u001b[0m                                 Traceback (most recent call last)",
      "\u001b[1;32m<ipython-input-79-dca8b0f84ece>\u001b[0m in \u001b[0;36m<module>\u001b[1;34m\u001b[0m\n\u001b[0;32m     14\u001b[0m \u001b[0mdf\u001b[0m\u001b[1;33m[\u001b[0m\u001b[1;34m'aika'\u001b[0m\u001b[1;33m]\u001b[0m \u001b[1;33m=\u001b[0m \u001b[0mdf\u001b[0m\u001b[1;33m[\u001b[0m\u001b[1;34m'alku'\u001b[0m\u001b[1;33m]\u001b[0m\u001b[1;33m.\u001b[0m\u001b[0mstr\u001b[0m\u001b[1;33m.\u001b[0m\u001b[0msplit\u001b[0m\u001b[1;33m(\u001b[0m\u001b[1;34m'.'\u001b[0m\u001b[1;33m)\u001b[0m\u001b[1;33m.\u001b[0m\u001b[0mstr\u001b[0m\u001b[1;33m.\u001b[0m\u001b[0mget\u001b[0m\u001b[1;33m(\u001b[0m\u001b[1;36m1\u001b[0m\u001b[1;33m)\u001b[0m\u001b[1;33m.\u001b[0m\u001b[0mstr\u001b[0m\u001b[1;33m.\u001b[0m\u001b[0msplit\u001b[0m\u001b[1;33m(\u001b[0m\u001b[1;34m'_'\u001b[0m\u001b[1;33m)\u001b[0m\u001b[1;33m.\u001b[0m\u001b[0mstr\u001b[0m\u001b[1;33m.\u001b[0m\u001b[0mget\u001b[0m\u001b[1;33m(\u001b[0m\u001b[1;36m0\u001b[0m\u001b[1;33m)\u001b[0m\u001b[1;33m\u001b[0m\u001b[1;33m\u001b[0m\u001b[0m\n\u001b[0;32m     15\u001b[0m \u001b[1;31m#df['aika'] =\u001b[0m\u001b[1;33m\u001b[0m\u001b[1;33m\u001b[0m\u001b[1;33m\u001b[0m\u001b[0m\n\u001b[1;32m---> 16\u001b[1;33m \u001b[0mdf\u001b[0m\u001b[1;33m[\u001b[0m\u001b[1;34m'aika'\u001b[0m\u001b[1;33m]\u001b[0m \u001b[1;33m=\u001b[0m \u001b[0mpd\u001b[0m\u001b[1;33m.\u001b[0m\u001b[0mto_datetime\u001b[0m\u001b[1;33m(\u001b[0m\u001b[1;34m'1.1.06'\u001b[0m\u001b[1;33m,\u001b[0m \u001b[0mdayfirst\u001b[0m\u001b[1;33m=\u001b[0m\u001b[1;32mTrue\u001b[0m\u001b[1;33m)\u001b[0m \u001b[1;33m+\u001b[0m \u001b[0mtimedelta\u001b[0m\u001b[1;33m(\u001b[0m\u001b[0mdf\u001b[0m\u001b[1;33m[\u001b[0m\u001b[1;34m'aika'\u001b[0m\u001b[1;33m]\u001b[0m\u001b[1;33m)\u001b[0m\u001b[1;33m\u001b[0m\u001b[1;33m\u001b[0m\u001b[0m\n\u001b[0m\u001b[0;32m     17\u001b[0m \u001b[1;31m#df['aika'] = df['aika'] + pd.to_timedelta(2,'h')pd.to_datetime(df['aika'], unit='s')\u001b[0m\u001b[1;33m\u001b[0m\u001b[1;33m\u001b[0m\u001b[1;33m\u001b[0m\u001b[0m\n\u001b[0;32m     18\u001b[0m \u001b[1;33m\u001b[0m\u001b[0m\n",
      "\u001b[1;31mTypeError\u001b[0m: unsupported type for timedelta days component: Series"
     ]
    }
   ],
   "source": [
    "import pandas as pd\n",
    "from datetime import datetime\n",
    "from datetime import timedelta\n",
    "\n",
    "df = pd.read_csv(\"http://student.labranet.jamk.fi/~varpe/datananal2k2020/kerta6/gps.txt\",\n",
    "                names=[\"alku\", \"id\", \"aika\", \"pituusaste\", \"leveysaste\", \"nopeus\"])\n",
    "df['nopeus'] = df['alku'].str[-3:].str.split('.').str.get(0)\n",
    "df['nopeus'] = df['nopeus'].replace('S0',0)\n",
    "df['nopeus'] = df['nopeus'].astype(float) / 10\n",
    "df['leveysaste'] = df['alku'].str.split('_').str.get(2).str.split('_').str.get(0).astype(float) / 100000\n",
    "df['pituusaste'] = df['alku'].str.split('_').str.get(1).str.split('_').str.get(0).astype(float) / 50000\n",
    "\n",
    "df['id'] = df['alku'].str[:4]\n",
    "df['aika'] = df['alku'].str.split('.').str.get(1).str.split('_').str.get(0)\n",
    "#df['aika'] = \n",
    "df['aika'] = pd.to_datetime('1.1.06', dayfirst=True) + timedelta(df['aika'])\n",
    "#df['aika'] = df['aika'] + pd.to_timedelta(2,'h')pd.to_datetime(df['aika'], unit='s')\n",
    "\n",
    "df = df.drop('alku', 1)\n",
    "\n",
    "df.head(10)"
   ]
  },
  {
   "cell_type": "markdown",
   "metadata": {},
   "source": [
    "## 2. Jalkapalloa\n",
    "\n",
    "Lue tiedosto http://student.labranet.jamk.fi/~varpe/datananal2k2020/kerta6/epl20200309.txt , jossa on Valioliigan ottelut kaudesta 1993-1994 tammikuuhun 2020 DataFrameen.\n",
    "\n",
    "Listaa ensin minä kalenterikuukausina on pelattu eniten otteluita.  \n",
    "Pitäisi tulla:\n",
    "```\n",
    "2017-12    69\n",
    "2018-12    69\n",
    "1994-04    68\n",
    "2001-12    65\n",
    "2013-12    64\n",
    "1994-12    64\n",
    "2006-12    64\n",
    "```\n",
    "\n",
    "\n",
    "Selvitä sitten minä **kalenteriviikkoina (ma-su)** on pelattu eniten otteluita.\n",
    "Yritä saada otsikoitua viikot alkamispäivän mukaan, jolloin tulokseksi pitäisi saada:  \n",
    "```\n",
    "1994-12-26    31  \n",
    "2005-12-26    27  \n",
    "1993-12-27    27  \n",
    "1993-08-16    22  \n",
    "1993-08-23    22  \n",
    "```\n",
    "(huomioi että vuodenvaihteessa saman kalenteriviikon päivät ovat usein eri vuosina)\n",
    "\n",
    "Laske vielä kuinka paljon otteluita on pelattu eri viikonpäivinä:  \n",
    "```\n",
    "ma     680\n",
    "ti     505\n",
    "ke     912\n",
    "to      79\n",
    "pe      99\n",
    "la    6104\n",
    "su    1953\n",
    "```"
   ]
  },
  {
   "cell_type": "markdown",
   "metadata": {},
   "source": [
    "# 3. Liigavire\n",
    "Tiedostossa http://student.labranet.jamk.fi/~varpe/datananal1k2020/kerta6/liiga.txt on SM-liigan (nyk. Liiga) runkosarjan ottelutukset kaudesta 2010-2011 kauden 2019-2020 maaliskuun alkuun.\n",
    "\n",
    "huom. -sarakkeessa on merkintä JA tai VL, jos ottelu on ratkennut vasta jatkoajalla tai voittomaalikilpailussa.\n",
    "\n",
    "Voittanut (enemmän maaleja tehnyt joukkue) saa 3 pistettä ja hävinnyt 0 pistettä, paitsi jos ottelu on ratkennut vasta jatkoajalla tai voittomaalikilpailussa, voittanut joukkue saa 2 pistettä ja hävinnyt yhden pisteen.\n",
    "\n",
    "\n",
    "Laske jokaisen JYP:n ottelun kohdalle paljonko JYP on saanut pisteitä edellisestä 15 ottelustaan ja piirrä näistä tiedoista piste-viivakaavio, jossa vaaka-akselilla on ottelun päiväys.\n",
    "\n",
    "(kaavioon tulee siis n. 6 kk katkoja kausien välillä koska runkosarjaotteluia ei pelata huhti-elokuussa)\n",
    "\n",
    "Malli:\n",
    "![malli3](http://student.labranet.jamk.fi/~varpe/datananal2k2020/kerta6/malli3.png)"
   ]
  },
  {
   "cell_type": "markdown",
   "metadata": {},
   "source": [
    "## 4. Kilometrit\n",
    "\n",
    "Tiedostossa http://student.labranet.jamk.fi/~varpe/datananal2k2020/kerta6/km.txt  on erään kuntoilijan päivittäisiä kilometrimääriä kesiltä 2015-2019.\n",
    "\n",
    "Lue tiedosto ja laske jokaiselle päivälle toukokuun alusta lokakuun loppuun kuinka paljon enemmän tai vähemmän vuonna 2019 on kertynyt kilometreja kesän alusta verrattuna vuosiin 2015... 2018. Piirrä samaan kaavioon ero jokaiseen aikaisempaan vuoteen.\n",
    "\n",
    "(huomaa että kilometrejä ei ole kertynyt läheskään jokainen päivä, mutta joka päivälle pitäisi saada ero laskettua)\n",
    "\n",
    "Malli:\n",
    "![malli4](http://student.labranet.jamk.fi/~varpe/datananal2k2020/kerta6/malli4.png)"
   ]
  },
  {
   "cell_type": "markdown",
   "metadata": {},
   "source": [
    "## 5. access.log\n",
    "Tiedostossa http://student.labranet.jamk.fi/~varpe/datananal2k2020/kerta6/accesslog.zip on eräästä access.log-tiedostosta poimittuja tietoja (ip-osoite, aika ja eventid).\n",
    "\n",
    "Tee tiedoista kaavio, joka kertoo kuinka monta **eri ip-osoitetta** on ollut kussakin kuudessa eventissä 5 minuutin jaksoissa näytteistettynä (eli esim montako eri ip-osoitetta on välillä 11:30:00-11:34:59).\n",
    "\n",
    "Voit joutua käyttämään omaa date_parser-funktiota. \n",
    "\n",
    "Malli:  \n",
    "![malli5](http://student.labranet.jamk.fi/~varpe/datananal2k2020/kerta6/malli5.png)"
   ]
  }
 ],
 "metadata": {
  "kernelspec": {
   "display_name": "Python 3",
   "language": "python",
   "name": "python3"
  },
  "language_info": {
   "codemirror_mode": {
    "name": "ipython",
    "version": 3
   },
   "file_extension": ".py",
   "mimetype": "text/x-python",
   "name": "python",
   "nbconvert_exporter": "python",
   "pygments_lexer": "ipython3",
   "version": "3.7.4"
  }
 },
 "nbformat": 4,
 "nbformat_minor": 2
}
