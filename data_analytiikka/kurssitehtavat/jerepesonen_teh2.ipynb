{
 "cells": [
  {
   "cell_type": "markdown",
   "metadata": {},
   "source": [
    "## Datan analysointi K2020_2 - Tehtävät kerta 2\n",
    "\n",
    "Palauta Optiman palautuslaatikkoon viimeistään su 2.2.  Kirjoita palautuslaatikon kommenttikenttään, mitä tehtävät olet tehnyt kokonaan/osittain.\n",
    "\n",
    "**Tee tehtävät ilman for-silmukoita tms.**\n",
    "\n",
    "**Opiskelijan nimi**: Jere Pesonen M3227"
   ]
  },
  {
   "cell_type": "markdown",
   "metadata": {},
   "source": [
    "## 1. Pelaajat\n",
    "\n",
    "Lue tiedosto https://student.labranet.jamk.fi/~varpe/datananal2k2020/kerta2/nhl1.csv DataFrameen siten, että otat mukaan vain seuraavat sarakkeet ja vaihda sarakkeiden otsikot suluissa oleviksi suomenkielisiksi:  \n",
    "  * Player      (pelaaja)\n",
    "  * Team        (joukkue)\n",
    "  * Birth City  (syntymäkaupunki)\n",
    "  * Ntnlty      (kansalaisuus)    \n",
    "  * Ht          (pituus)  \n",
    "  * Wt          (paino)\n",
    "  * Overall     (varausnro)  \n",
    "  * GP          (pelit)\n",
    "  * G           (maalit)\n",
    "  \n",
    "Pituus on tuumina, muunna se senttimetreiksi kertomalla 2,54:llä.  \n",
    "\n",
    "Paino on nauloina, muunna se kilogrammoiksi kertomalla 0,453592:llä ja pyöristämällä tulos 0,1 kg tarkkuuteen.\n",
    "\n",
    "Luo uusi sarake jossa on paino-tiedon perusteella \"painoluokka\" 5 kg välein lokeroituna. (Lue ensin datasta suurin ja pienin paino)\n",
    "\n",
    "Laske sitten kuhunkin painoluokkaan kuuluvien rivien määrä Serieksen `value_counts()`-metodilla.\n",
    "\n",
    "Tulosta lopuksi ne pelaajat joiden syntymäkaupunki on Jyväskylä (kaikki sarakkeet)."
   ]
  },
  {
   "cell_type": "code",
   "execution_count": 2,
   "metadata": {},
   "outputs": [
    {
     "data": {
      "text/html": [
       "<div>\n",
       "<style scoped>\n",
       "    .dataframe tbody tr th:only-of-type {\n",
       "        vertical-align: middle;\n",
       "    }\n",
       "\n",
       "    .dataframe tbody tr th {\n",
       "        vertical-align: top;\n",
       "    }\n",
       "\n",
       "    .dataframe thead th {\n",
       "        text-align: right;\n",
       "    }\n",
       "</style>\n",
       "<table border=\"1\" class=\"dataframe\">\n",
       "  <thead>\n",
       "    <tr style=\"text-align: right;\">\n",
       "      <th></th>\n",
       "      <th>Pelaaja</th>\n",
       "      <th>Joukkue</th>\n",
       "      <th>Syntymäkaupunki</th>\n",
       "      <th>Kansalaisuus</th>\n",
       "      <th>Pituus</th>\n",
       "      <th>Paino</th>\n",
       "      <th>Varausnro</th>\n",
       "      <th>Pelit</th>\n",
       "      <th>Maalit</th>\n",
       "      <th>Painoluokka</th>\n",
       "    </tr>\n",
       "  </thead>\n",
       "  <tbody>\n",
       "    <tr>\n",
       "      <td>478</td>\n",
       "      <td>Olli Maatta</td>\n",
       "      <td>CHI</td>\n",
       "      <td>Jyväskylä</td>\n",
       "      <td>FIN</td>\n",
       "      <td>187.96</td>\n",
       "      <td>93.4</td>\n",
       "      <td>22</td>\n",
       "      <td>41</td>\n",
       "      <td>3</td>\n",
       "      <td>90-95</td>\n",
       "    </tr>\n",
       "    <tr>\n",
       "      <td>788</td>\n",
       "      <td>Sami Vatanen</td>\n",
       "      <td>NJD</td>\n",
       "      <td>Jyväskylä</td>\n",
       "      <td>FIN</td>\n",
       "      <td>177.80</td>\n",
       "      <td>83.9</td>\n",
       "      <td>106</td>\n",
       "      <td>41</td>\n",
       "      <td>5</td>\n",
       "      <td>80-85</td>\n",
       "    </tr>\n",
       "  </tbody>\n",
       "</table>\n",
       "</div>"
      ],
      "text/plain": [
       "          Pelaaja Joukkue Syntymäkaupunki Kansalaisuus  Pituus  Paino  \\\n",
       "478   Olli Maatta     CHI       Jyväskylä          FIN  187.96   93.4   \n",
       "788  Sami Vatanen     NJD       Jyväskylä          FIN  177.80   83.9   \n",
       "\n",
       "    Varausnro  Pelit  Maalit Painoluokka  \n",
       "478        22     41       3       90-95  \n",
       "788       106     41       5       80-85  "
      ]
     },
     "execution_count": 2,
     "metadata": {},
     "output_type": "execute_result"
    }
   ],
   "source": [
    "import pandas as pd\n",
    "df = pd.read_csv('https://student.labranet.jamk.fi/~varpe/datananal2k2020/kerta2/nhl1.csv', \n",
    "                 usecols = ['Player', 'Team', 'Birth City', 'Ntnlty', 'Ht', 'Wt', 'Overall', 'GP', 'G'],\n",
    "                 converters = {'Ht':(lambda x : float(x)*2.54), 'Wt':(lambda x : round(float(x)*0.453592, 1))}, # muutetaan naulat ja tuumat \n",
    "                 )\n",
    "df.rename(columns = {'Player':'Pelaaja', 'Team':'Joukkue','Birth City':'Syntymäkaupunki', 'Ntnlty':'Kansalaisuus', 'Ht':'Pituus', 'Wt':'Paino', 'Overall':'Varausnro', 'GP':'Pelit', 'G':'Maalit'}, inplace = True) # vaihdetaan sarakeotsikot\n",
    "lokerot = [65,70,75,80,85,90,95,100,105,110,115,120] # luodaan painoluokan lokerot\n",
    "luokat = ['65-70', '70-75', '75-80', '80-85', '85-90', '90-95', '95-100', '100-105', '105-110', '110-115', '115-120'] # luodaan painoluokat\n",
    "df['Painoluokka'] = pd.cut(df['Paino'], lokerot, labels=luokat) # luodaan painoluokka sarake, ja asetetaan pelaajien painon mukaan\n",
    "df[df['Syntymäkaupunki'].str.contains(\"Jyväskylä\")] # tulostetaan vain ne pelaajat, joiden syntymäkaupunki on jyväskylä"
   ]
  },
  {
   "cell_type": "markdown",
   "metadata": {},
   "source": [
    "## 2. Arvosanat\n",
    "Tiedostossa http://student.labranet.jamk.fi/~varpe/datananal2k2020/kerta2/pisteet.txt on 1000 opiskelijan (kuvitteelliset) kurssisuoritukset. Lue tiedosto DataFrameen ja tee uusi sarake arvosana, joka määräytyy yhteispistemäärästä (teht1+teht2+teht3+labra1+labra2) seuraavan taulukon mukaan\n",
    "\n",
    "Pisteitä vähintään | arvosana\n",
    "--------------|--------------\n",
    "    8|1\n",
    "    12|2\n",
    "    16|3\n",
    "    19|4\n",
    "    22|5\n",
    "   \n",
    "Mutta jos pistemäärä on vähemmän kuin 8 tai labrapistemäärä yhteensä (labra1+labra2) on vähemmän kuin 2, arvosanaksi tulee 0.\n",
    "\n",
    "Tulosta sitten arvosanojen lukumäärät Serieksen value_counts()-metodilla.\n",
    "\n",
    "pitäisi tulla määrät:\n",
    "\n",
    "arvosana|lkm\n",
    "----|---\n",
    "0|312\n",
    "1|169\n",
    "2|199\n",
    "3|157\n",
    "4|133\n",
    "5|30\n"
   ]
  },
  {
   "cell_type": "code",
   "execution_count": 129,
   "metadata": {},
   "outputs": [
    {
     "name": "stdout",
     "output_type": "stream",
     "text": [
      "  tunnus  teht1  teht2  teht3  labra1  labra2 Arvosana\n",
      "0  D3257    0.0    0.5    0.0     1.0     0.5        0\n",
      "1  N9904    5.0    6.0    6.0     1.5     2.0        4\n",
      "2  Q8934    0.5    0.0    0.5     3.0     0.0        0\n",
      "3  X5087    1.5    1.5    0.0     2.0     1.0        0\n",
      "4  N6286    6.0    6.0    3.0     1.0     2.5        3\n",
      "5  T7806    3.5    4.0    4.0     1.5     1.5        2\n",
      "6  O5803    0.0    0.0    1.5     1.5     1.5        0\n",
      "7  H8577    1.0    0.0    0.0     2.0     2.0        0\n",
      "8  A9681    4.5    6.0    4.5     1.0     1.5        3\n",
      "9  B8555    6.0    6.0    6.0     2.5     2.0        5\n"
     ]
    },
    {
     "data": {
      "text/plain": [
       "0    312\n",
       "1    169\n",
       "2    199\n",
       "3    157\n",
       "4    133\n",
       "5     30\n",
       "Name: Arvosana, dtype: int64"
      ]
     },
     "execution_count": 129,
     "metadata": {},
     "output_type": "execute_result"
    }
   ],
   "source": [
    "import pandas as pd\n",
    "df = pd.read_csv('http://student.labranet.jamk.fi/~varpe/datananal2k2020/kerta2/pisteet.txt', sep=';', decimal=',')\n",
    "\n",
    "labrat = df['labra1'] + df['labra2'] # summataan labrojen pisteet\n",
    "yhteis = df['teht1'] + df['teht2'] + df['teht3'] + df['labra1'] + df['labra2']# summataan yhteispisteet\n",
    "\n",
    "lokerot = [0,7.5,11.5,15.5,18.5,21.5,1000]# tehdään lokerot\n",
    "luokat = ['0','1','2','3','4','5'] # tehdään luokat\n",
    "df['Arvosana'] = pd.cut(yhteis, lokerot, labels=luokat) # luodaan uusi sarake 'Arvosana', ja luetaan siihen arvot yhteispisteiden perusteella\n",
    "df.loc[(labrat < 2), 'Arvosana'] = '0' # korvataan arvosana 0:lla jos labrojen yhteispisteen on alle 2\n",
    "print(df.head(10)) # tulostetaan 10 ensimmäistä\n",
    "\n",
    "df['Arvosana'].value_counts(sort = False) # tulostetaan arvosanojen lukumäärät"
   ]
  },
  {
   "cell_type": "markdown",
   "metadata": {},
   "source": [
    "## 3. Juoksut\n",
    "Tiedostossa http://student.labranet.jamk.fi/~varpe/datananal2k2020/kerta2/juoksut.txt on (kuvitteellisia) juoksukilometrejä viikottain ja viikonpäivittäin taulukoituna.\n",
    "\n",
    "Lue tiedosto DataFrameen ja:  \n",
    "  * korvaa puuttuvat arvot nollalla\n",
    "  * laske ja tulosta viikonpäivien (Mon, Tue, ...) mukaan keskiarvot (mean) juoksukilometreistä (ma pitäisi olla 9,58846...)\n",
    "  * lisää DataFrameen sarake \"yht\", jossa on viikon kilometrit laskettu yhteen\n",
    "  * lisää sarake \"kerrat\", jossa on kuinka monena päivänä ko. viikolla on kilometrejä > 0\n",
    "  * lisää sarake \"kova\", jossa on True jos viikon kokonaiskilometrit on vähintään 75  TAI viikolla on vähintään kolme päivää joissa on vähintään 12 kilometriä\n",
    "  * laske ja tulosta montako \"kova\"-viikkoa on ollut (pitäisi olla 17)"
   ]
  },
  {
   "cell_type": "code",
   "execution_count": 128,
   "metadata": {},
   "outputs": [
    {
     "name": "stdout",
     "output_type": "stream",
     "text": [
      "Mon    9.588462\n",
      "Tue    8.178846\n",
      "Wed    8.169231\n",
      "Thu    8.311538\n",
      "Fri    9.153846\n",
      "Sat    8.253846\n",
      "Sun    6.411538\n",
      "dtype: float64\n",
      "-------------------------------------------------------\n",
      "       Mon   Tue   Wed   Thu   Fri   Sat   Sun  kerrat   yht   kova\n",
      "week                                                               \n",
      "1     11.4   7.9  15.9  13.0  13.7  10.6   8.6       7  81.1   True\n",
      "2      5.2   4.0   9.1   8.6   5.1   5.4   8.0       7  45.4  False\n",
      "3      4.0  11.5  10.7   4.0  17.3   4.0  10.2       7  61.7  False\n",
      "4     12.5   0.0   4.7  12.4   8.3  12.2   0.0       5  50.1   True\n",
      "5     24.8   0.0   8.3   8.6   5.5  11.5   0.0       5  58.7  False\n",
      "6     15.8   0.0   0.0   9.1  11.0   0.0   4.0       4  39.9  False\n",
      "7      0.0  14.3  14.1   9.7   6.4  15.4   0.0       5  59.9   True\n",
      "8      7.4   7.8   0.0  15.0   6.3   5.6   7.5       6  49.6  False\n",
      "9     16.4   0.0  10.4   0.0   0.0   0.0  13.9       3  40.7  False\n",
      "10     8.4   7.8   0.0  16.1   7.7   9.0  18.8       6  67.8  False\n",
      "-------------------------------------------------------\n"
     ]
    },
    {
     "data": {
      "text/plain": [
       "False    35\n",
       "True     17\n",
       "Name: kova, dtype: int64"
      ]
     },
     "execution_count": 128,
     "metadata": {},
     "output_type": "execute_result"
    }
   ],
   "source": [
    "import numpy as np\n",
    "import pandas as pd\n",
    "df = pd.read_csv('http://student.labranet.jamk.fi/~varpe/datananal2k2020/kerta2/juoksut.txt', sep='|', decimal =',')\n",
    "df.fillna(0, inplace=True) # korvaa puuttuvat arvot nollalla\n",
    "df = df.set_index('week')\n",
    "df2 = df.copy()\n",
    "print(df.mean()) # tulostetaan viikonpäivinen keskiarvot\n",
    "print('-'*55)\n",
    "\n",
    "df['kerrat'] = df.apply(lambda x: x[x>0].count(), axis=1) # tehdäänä sarake kerrat, johonlasketaan kerrat kun kilometrimäärä on yli 0\n",
    "df['yht'] = df.sum(axis =1) - df['kerrat'] # tehdään sarake yht, johonlasketaan viikon kilometrimäärä yhteen (kerrat pitää miinustaa)\n",
    "df['kova'] = (df['yht'] >= 75) | (df2[df2 > 12].count(axis = 1)  >= 3) # tehdään sarake kova, johon lasketaan lukumäärä, kun viikon aikana on juostu yli 75 kilometirä, tai kolme kertaa yli 12\n",
    "\n",
    "print(df.head(10))\n",
    "print('-'*55)\n",
    "\n",
    "df['kova'].value_counts() # lasketaan kova. viikkojen lukumäärä"
   ]
  },
  {
   "cell_type": "markdown",
   "metadata": {},
   "source": [
    "## 4. NHL\n",
    "Tiedostossa http://student.labranet.jamk.fi/~varpe/datananal2k2020/kerta2/nhl.txt on NHL:n runkosarjan ottelutulokset kaudesta 2010-2011 kauteen 2018-2019.\n",
    "\n",
    "outcome -sarakkeessa on merkintä REG, jos ottelu on päättynyt varsinaisella peliajalla, OT jos jatkoajalla ja SO jos ottelu on päättynyt vasta voittomaalikilpailussa.\n",
    "\n",
    "Voittanut (enemmän maaleja tehnyt joukkue) saa 2 pistettä ja hävinnyt 0 pistettä, paitsi jos ottelu on ratkennut vasta jatkoajalla tai voittomaalikilpailussa, hävinnyt joukkue saa yhden pisteen.\n",
    "\n",
    "Laske kuinka monta pistettä WPG (Winnipeg Jets)  on saanut tiedoston otteluista.  (pitäisi olla 696)  \n",
    "Laske kuinka monta pistettä EDM (Edmonton Oilers) on saanut tiedoston otteluista. \n"
   ]
  },
  {
   "cell_type": "code",
   "execution_count": 127,
   "metadata": {
    "scrolled": true
   },
   "outputs": [
    {
     "name": "stdout",
     "output_type": "stream",
     "text": [
      "    season       date       game goals outcome voittaja häviäjä\n",
      "0  2010-11  7.10.2010  MIN - CAR   3-4     REG      CAR     MIN\n",
      "1  2010-11  7.10.2010  PIT - PHI   2-3     REG      PHI     PIT\n",
      "2  2010-11  7.10.2010  TOR - MTL   3-2     REG      TOR     MTL\n",
      "3  2010-11  8.10.2010  OTT - BUF   1-2     REG      BUF     OTT\n",
      "4  2010-11  8.10.2010  CBJ - SJS   2-3     REG      SJS     CBJ\n",
      "5  2010-11  8.10.2010  ATL - WSH   4-2     REG      ATL     WSH\n",
      "6  2010-11  8.10.2010  DET - ANA   4-0     REG      DET     ANA\n",
      "7  2010-11  8.10.2010  NJD - DAL   3-4      OT      DAL     NJD\n",
      "8  2010-11  8.10.2010  COL - CHI   4-3      OT      COL     CHI\n",
      "9  2010-11  8.10.2010  CAR - MIN   2-1      SO      CAR     MIN\n",
      "-------------------------------------------------------\n",
      "Winnipegin pisteet:  696\n",
      "Edmontonin pisteet:  561\n"
     ]
    }
   ],
   "source": [
    "import numpy as np\n",
    "\n",
    "df = pd.read_csv('http://student.labranet.jamk.fi/~varpe/datananal2k2020/kerta2/nhl.txt', sep=',')\n",
    "df2 = df.copy()\n",
    "\n",
    "maalit = df['goals'].str.split(\"-\", n=1, expand=True) # splitataan maalit väliviilalla, jotta voidaan tutkia kumpi teki enemmän maaleja\n",
    "joukkue = df['game'].str.split(\"-\", n=1, expand=True) # splitataan joukkueet väliviivalla, jotta voidaan tutkia pelaavia joukkueita\n",
    "\n",
    "df['voittaja'] = np.where(maalit[0] > maalit[1], joukkue[0], joukkue[1]) # luodan uusi sarake voittaja\n",
    "df['häviäjä'] = np.where(maalit[0] > maalit[1], joukkue[1], joukkue[0]) # luodan uusi sarake häviäjä\n",
    "df.voittaja = df.voittaja.str.replace(' ', '') # poistetaan välilyönnit\n",
    "df.häviäjä = df.häviäjä.str.replace(' ', '')\n",
    "\n",
    "wpgpisteet = [ # laaditaan ehdot winnipegin pisteille\n",
    "    (df['voittaja'] == 'WPG'),\n",
    "    (df['outcome'] != 'REG') & (dfwpg['häviäjä'] == 'WPG')]\n",
    "edmpisteet = [ # laditaan ehdot edmontonin pisteille\n",
    "    (df['voittaja'] == 'EDM'),\n",
    "    (df['outcome'] != 'REG') & (dfwpg['häviäjä'] == 'EDM')]\n",
    "valinnat = [2, 1] # laaditaan pistemäärät\n",
    "\n",
    "df2['wpgpisteet'] = np.select(wpgpisteet, valinnat, default=0) # lasketaan winnipegin pisteet per peli\n",
    "df2['edmpisteet'] = np.select(edmpisteet, valinnat, default=0) # lasketaan edmontonin pisteet per peli\n",
    "\n",
    "\n",
    "print(df.head(10))\n",
    "print('-'*55)\n",
    "print('Winnipegin pisteet: ', df2['wpgpisteet'].sum())\n",
    "print('Edmontonin pisteet: ', df2['edmpisteet'].sum())"
   ]
  },
  {
   "cell_type": "markdown",
   "metadata": {},
   "source": [
    "## 5. Tulokset\n",
    "Tiedostossa http://student.labranet.jamk.fi/~varpe/datananal2k2020/kerta2/tulokset.txt on erään suunnistuskisan tuloksia, kenttäerottimena sarkain.\n",
    "Kilpailija-kentässä on data muodossa **M10 Aaltio Aapo (KuoSu)** missä  \n",
    "  * M = sukupuoli (M tai N)  \n",
    "  * 10 = matka (10, 15 tai 25)  \n",
    "  * Aaltio = sukunimi  \n",
    "  * Aapo = etunimi  \n",
    "  * KuoSu = seura. Seura voi myös puuttua, jolloin kentässä ei ole myöskään sulkuja  \n",
    "\n",
    "Nimi voi olla myös 3-osainen (esim. **M15 af Hällström Fabian (OK77)**). Näissä kaksi ensimmäistä osaa kuuluvat sukunimeen ja kolmas etunimeen.\n",
    "\n",
    "Lue tiedot DataFrameen, ja pura kilpailija-kentästä eri sarakkeisiin etunimi, sukunimi, seura, matka ja sukupuoli.\n",
    "\n",
    "Tulosta sitten naisten 10 km nopein juoksija.  \n",
    "(ajat ovat tässä siinä muodossa, että niitä voidaan lajitella sellaisinaan merkkijonoina)."
   ]
  },
  {
   "cell_type": "code",
   "execution_count": 236,
   "metadata": {},
   "outputs": [
    {
     "name": "stdout",
     "output_type": "stream",
     "text": [
      "   kilpnro                      kilpailija loppuaika\n",
      "0        3         M10 Aaltio Aapo (KuoSu)   1:24:11\n",
      "1        6         M15 Aalto Tuomas (EsAk)   2:45:02\n",
      "2       13  M15 af Hällström Fabian (OK77)   1:50:48\n",
      "3        7           N10 Ahlfors Pia-Maria   2:06:39\n",
      "4        4   N15 Ahlqvist Kristiina (Raus)   4:09:09\n",
      "5       11        M10 Ahlroth Timo (TurSa)   2:07:26\n",
      "6       22           M15 Ahonen Ari (HiKi)   2:24:45\n",
      "7        9        M10 Ahonen Niilo (LS-37)   2:11:48\n",
      "8       16      M15 Ahoniemi Rasmus (HyRa)   3:05:38\n",
      "9       61     M15 Ahoniemi Santeri (HyRa)   3:17:14\n",
      "-------------------------------------------------------\n",
      "   kilpnro                      kilpailija loppuaika    etunimi      sukunimi  \\\n",
      "0        3         M10 Aaltio Aapo (KuoSu)   1:24:11       Aapo        Aaltio   \n",
      "1        6         M15 Aalto Tuomas (EsAk)   2:45:02     Tuomas         Aalto   \n",
      "2       13  M15 af Hällström Fabian (OK77)   1:50:48     Fabian  af Hällström   \n",
      "3        7           N10 Ahlfors Pia-Maria   2:06:39  Pia-Maria       Ahlfors   \n",
      "4        4   N15 Ahlqvist Kristiina (Raus)   4:09:09  Kristiina      Ahlqvist   \n",
      "5       11        M10 Ahlroth Timo (TurSa)   2:07:26       Timo       Ahlroth   \n",
      "6       22           M15 Ahonen Ari (HiKi)   2:24:45        Ari        Ahonen   \n",
      "7        9        M10 Ahonen Niilo (LS-37)   2:11:48      Niilo        Ahonen   \n",
      "8       16      M15 Ahoniemi Rasmus (HyRa)   3:05:38     Rasmus      Ahoniemi   \n",
      "9       61     M15 Ahoniemi Santeri (HyRa)   3:17:14    Santeri      Ahoniemi   \n",
      "\n",
      "   seura sukupuoli matka  \n",
      "0  KuoSu         M    10  \n",
      "1   EsAk         M    15  \n",
      "2   OK77         M    15  \n",
      "3    NaN         N    10  \n",
      "4   Raus         N    15  \n",
      "5  TurSa         M    10  \n",
      "6   HiKi         M    15  \n",
      "7  LS-37         M    10  \n",
      "8   HyRa         M    15  \n",
      "9   HyRa         M    15  \n"
     ]
    }
   ],
   "source": [
    "df = pd.read_csv('http://student.labranet.jamk.fi/~varpe/datananal2k2020/kerta2/tulokset.txt', sep='\\t')\n",
    "\n",
    "df.fillna(0)\n",
    "print(df.head(10))\n",
    "print('-'*55)\n",
    "\n",
    "df['etunimi'] = df['kilpailija'].str.split(\"(\").str.get(0).str.strip().str.split(\" \").str.get(-1)\n",
    "df.loc[df['kilpailija'].str.split().str.len() == 5, 'sukunimi'] = df['kilpailija'].str.split().str[1] + \" \" + df['kilpailija'].str.split().str[2]\n",
    "df['sukunimi'].fillna(df['kilpailija'].str.split().str[1], inplace=True)\n",
    "\n",
    "df['seura'] = df['kilpailija'].str.split(\"(\").str.get(1).str.split(\")\").str.get(0)\n",
    "\n",
    "df['sukupuoli'] = df['kilpailija'].str.get(0)\n",
    "df['matka'] = df['kilpailija'].str.get(1) + df['kilpailija'].str.get(2)\n",
    "print(df.head(10))"
   ]
  },
  {
   "cell_type": "code",
   "execution_count": null,
   "metadata": {},
   "outputs": [],
   "source": []
  }
 ],
 "metadata": {
  "kernelspec": {
   "display_name": "Python 3",
   "language": "python",
   "name": "python3"
  },
  "language_info": {
   "codemirror_mode": {
    "name": "ipython",
    "version": 3
   },
   "file_extension": ".py",
   "mimetype": "text/x-python",
   "name": "python",
   "nbconvert_exporter": "python",
   "pygments_lexer": "ipython3",
   "version": "3.7.4"
  }
 },
 "nbformat": 4,
 "nbformat_minor": 4
}
